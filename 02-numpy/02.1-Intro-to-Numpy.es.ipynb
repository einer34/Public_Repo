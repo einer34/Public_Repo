{
  "cells": [
    {
      "cell_type": "markdown",
      "id": "bdfbcacc",
      "metadata": {
        "id": "bdfbcacc"
      },
      "source": [
        "![Logo de NumPy](https://github.com/4GeeksAcademy/machine-learning-prework/blob/main/02-numpy/assets/numpy_logo.png?raw=true)\n",
        "\n",
        "## Introducción a NumPy\n",
        "\n",
        "`NumPy` es un juego de palabras que significa **Python numérico** (*Numerical Python*). Es una librería de código abierto que se utiliza para llevar a cabo tareas matemáticas con altísima eficiencia. Además, introduce estructuras de datos como los arrays multidimensionales, que se pueden operar entre ellos a alto nivel, sin meterse mucho en el detalle.\n",
        "\n",
        "En concreto, las claves de esta librería son:\n",
        "\n",
        "- **Array multidimensionales**: Esta librería proporciona un objeto llamado `ndarray`, que permite almacenar y manipular grandes conjuntos de datos de forma eficiente. Los arrays pueden tener cualquier número de dimensiones.\n",
        "- **Operaciones Vectorizadas**: NumPy permite realizar operaciones matemáticas en arrays completos sin la necesidad de bucles explícitos en el código, lo que lo hace muy rápido y eficiente.\n",
        "- **Funciones matemáticas**: NumPy proporciona una amplia gama de funciones matemáticas para trabajar con arrays, incluyendo funciones trigonométricas, estadísticas, álgebra lineal, entre otras.\n",
        "- **Eficiencia**: Es mucho más rápido que la misma funcionalidad implementada directamente sobre Python nativo. Además, es muy flexible en términos de acceso y manipulación de elementos individuales o subconjuntos de arrays.\n",
        "\n",
        "NumPy es una biblioteca fundamental para el Machine Learning y la ciencia de los datos en Python. Proporciona una amplia gama de herramientas y funciones para trabajar eficientemente con datos numéricos en forma de arrays y matrices."
      ]
    },
    {
      "cell_type": "markdown",
      "id": "dc410026",
      "metadata": {
        "id": "dc410026"
      },
      "source": [
        "### Arrays\n",
        "\n",
        "Un **array** de NumPy es una estructura de datos que permite almacenar una colección de elementos, generalmente números, en una o más dimensiones.\n",
        "\n",
        "#### Array unidimensional\n",
        "\n",
        "Un array unidimensional (1D) de NumPy es una estructura de datos que contiene una secuencia de elementos en una única dimensión. Es similar a una lista en Python, pero con las ventajas de rendimiento y funcionalidad que ofrece NumPy.\n",
        "\n",
        "![Array de una dimensión](https://github.com/4GeeksAcademy/machine-learning-prework/blob/main/02-numpy/assets/1D.png?raw=true \"1D\")\n",
        "\n",
        "Un array 1D puede ser creado usando la función `array` de la librería con una lista de elementos como argumento. Por ejemplo:"
      ]
    },
    {
      "cell_type": "code",
      "execution_count": null,
      "id": "d8a0686b",
      "metadata": {
        "id": "d8a0686b",
        "outputId": "ad60fc61-b81e-4155-daac-a9ee814c62af"
      },
      "outputs": [
        {
          "data": {
            "text/plain": [
              "array([1, 2, 3, 4, 5])"
            ]
          },
          "execution_count": 1,
          "metadata": {},
          "output_type": "execute_result"
        }
      ],
      "source": [
        "import numpy as np\n",
        "\n",
        "array = np.array([1, 2, 3, 4, 5])\n",
        "array"
      ]
    },
    {
      "cell_type": "markdown",
      "id": "e090f7a0",
      "metadata": {
        "id": "e090f7a0"
      },
      "source": [
        "Esto creará un array 1D con los elementos 1, 2, 3, 4 y 5. Los elementos del array deben ser del mismo tipo de datos. Si los elementos son de diferentes tipos, NumPy intentará convertirlos al mismo tipo si es posible.\n",
        "\n",
        "En un array 1D, podemos acceder a los elementos usando **índices** (*indexes*), modificarlos y realizar operaciones matemáticas en el array completo de forma eficiente. A continuación se muestran algunas operaciones que se pueden realizar utilizando el array anterior:"
      ]
    },
    {
      "cell_type": "code",
      "execution_count": null,
      "id": "a56cb1b0",
      "metadata": {
        "id": "a56cb1b0",
        "outputId": "081db42d-aab7-4d81-ea87-0c37070c220c"
      },
      "outputs": [
        {
          "name": "stdout",
          "output_type": "stream",
          "text": [
            "3\n",
            "[1 7 3 4 5]\n",
            "[11 17 13 14 15]\n",
            "70\n"
          ]
        }
      ],
      "source": [
        "# Acceder al tercer elemento\n",
        "print(array[2])\n",
        "\n",
        "# Cambiar el valor del segundo elemento\n",
        "array[1] = 7\n",
        "print(array)\n",
        "\n",
        "# Sumar 10 a todos los elementos\n",
        "array += 10\n",
        "print(array)\n",
        "\n",
        "# Calcular la suma de los elementos\n",
        "sum_all = np.sum(array)\n",
        "print(sum_all)"
      ]
    },
    {
      "cell_type": "markdown",
      "id": "322771b1",
      "metadata": {
        "id": "322771b1"
      },
      "source": [
        "#### Array N-dimensional\n",
        "\n",
        "Un array multidimensional o n-dimensional en NumPy es una estructura de datos que organiza elementos en múltiples dimensiones (ejes). Estos arrays permiten representar estructuras de datos más complejas, como matrices (array 2D, 2 ejes), tensores (array 3D, 3 ejes) y estructuras de mayor dimensión.\n",
        "\n",
        "![Arrays de diferentes dimensiones](https://github.com/4GeeksAcademy/machine-learning-prework/blob/main/02-numpy/assets/3D.png?raw=true \"3D\")\n",
        "\n",
        "Un array N-dimensional puede ser creado también usando la función `array` de la librería. Por ejemplo, si queremos crear un array 2D:"
      ]
    },
    {
      "cell_type": "code",
      "execution_count": null,
      "id": "2033ba3c",
      "metadata": {
        "id": "2033ba3c",
        "outputId": "fba2d28e-ce56-4201-d18a-9ce8f87b9537"
      },
      "outputs": [
        {
          "data": {
            "text/plain": [
              "array([[1, 2, 3],\n",
              "       [4, 5, 6],\n",
              "       [7, 8, 9]])"
            ]
          },
          "execution_count": 3,
          "metadata": {},
          "output_type": "execute_result"
        }
      ],
      "source": [
        "array_2d = np.array([[1, 2, 3], [4, 5, 6], [7, 8, 9]])\n",
        "array_2d"
      ]
    },
    {
      "cell_type": "markdown",
      "id": "d3dac6c2",
      "metadata": {
        "id": "d3dac6c2"
      },
      "source": [
        "Si ahora quisiéramos crear un array 3D, tendríamos que pensar en él como una lista de matrices:"
      ]
    },
    {
      "cell_type": "code",
      "execution_count": null,
      "id": "bc914841",
      "metadata": {
        "id": "bc914841",
        "outputId": "0d0e4eb6-a010-43fb-d50f-8e3a02d13bdc"
      },
      "outputs": [
        {
          "data": {
            "text/plain": [
              "array([[[1, 2],\n",
              "        [3, 4]],\n",
              "\n",
              "       [[5, 6],\n",
              "        [7, 8]]])"
            ]
          },
          "execution_count": 4,
          "metadata": {},
          "output_type": "execute_result"
        }
      ],
      "source": [
        "array_3d = np.array([[[1, 2], [3, 4]], [[5, 6], [7, 8]]])\n",
        "array_3d"
      ]
    },
    {
      "cell_type": "markdown",
      "id": "da7bcb64",
      "metadata": {
        "id": "da7bcb64"
      },
      "source": [
        "Al igual que sucedía con los arrays 1D, los elementos en un array multidimensional son accesibles mediante índices, se pueden realizar operaciones con ellos, etcétera.\n",
        "\n",
        "A medida que agregamos más dimensiones, el principio básico sigue siendo el mismo: cada dimensión adicional puede considerarse como un nivel adicional de anidamiento. Sin embargo, a nivel práctico, trabajar con arrays de más de 3 o 4 dimensiones puede volverse más complejo y menos intuitivo.\n",
        "\n",
        "Los arrays n-dimensionales en NumPy permiten una gran flexibilidad y potencia para representar y manipular datos en formas más complejas, especialmente útiles en campos como la ciencia de los datos, procesamiento de imágenes y aprendizaje profundo."
      ]
    },
    {
      "cell_type": "markdown",
      "id": "d699ac98",
      "metadata": {
        "id": "d699ac98"
      },
      "source": [
        "### Funciones\n",
        "\n",
        "NumPy proporciona una gran cantidad de funciones predefinidas y que se pueden aplicar directamente sobre las estructuras de datos vistas anteriormente o las propias de Python (listas, matrices, etcétera). Algunas de las más utilizadas en el análisis de datos son:"
      ]
    },
    {
      "cell_type": "code",
      "execution_count": null,
      "id": "e7680306",
      "metadata": {
        "id": "e7680306",
        "outputId": "df1c88a0-898e-4dc4-8c86-414f8bac3d37"
      },
      "outputs": [
        {
          "name": "stdout",
          "output_type": "stream",
          "text": [
            "Suma: [ 6  7  8  9 10]\n",
            "Producto: [ 3  6  9 12 15]\n",
            "Logaritmo natural: [0.         0.69314718 1.09861229 1.38629436 1.60943791]\n",
            "Exponencial: [  2.71828183   7.3890561   20.08553692  54.59815003 148.4131591 ]\n",
            "Media: 3.0\n",
            "Mediana: 3.0\n",
            "Desviación estándar: 1.4142135623730951\n",
            "Varianza: 2.0\n",
            "Máximo valor: 5\n",
            "Índice del máximo valor: 4\n",
            "Mínimo valor: 1\n",
            "Índice del mínimo valor: 0\n",
            "Suma de todos los elementos: 15\n",
            "Redondeo: [1. 2. 4. 5.]\n",
            "Entero menor (floor): [1. 2. 3. 4.]\n",
            "Entero mayor (ceil): [2. 3. 4. 5.]\n"
          ]
        }
      ],
      "source": [
        "import numpy as np\n",
        "\n",
        "# Crear un array para el ejemplo\n",
        "arr = np.array([1, 2, 3, 4, 5])\n",
        "\n",
        "# Operaciones Aritméticas\n",
        "print(\"Suma:\", np.add(arr, 5))\n",
        "print(\"Producto:\", np.multiply(arr, 3))\n",
        "\n",
        "# Logarítmicas y Exponenciales\n",
        "print(\"Logaritmo natural:\", np.log(arr))\n",
        "print(\"Exponencial:\", np.exp(arr))\n",
        "\n",
        "# Funciones Estadísticas\n",
        "print(\"Media:\", np.mean(arr))\n",
        "print(\"Mediana:\", np.median(arr))\n",
        "print(\"Desviación estándar:\", np.std(arr))\n",
        "print(\"Varianza:\", np.var(arr))\n",
        "print(\"Máximo valor:\", np.max(arr))\n",
        "print(\"Índice del máximo valor:\", np.argmax(arr))\n",
        "print(\"Mínimo valor:\", np.min(arr))\n",
        "print(\"Índice del mínimo valor:\", np.argmin(arr))\n",
        "print(\"Suma de todos los elementos:\", np.sum(arr))\n",
        "\n",
        "# Funciones de Redondeo\n",
        "arr_decimal = np.array([1.23, 2.47, 3.56, 4.89])\n",
        "print(\"Redondeo:\", np.around(arr_decimal))\n",
        "print(\"Entero menor (floor):\", np.floor(arr_decimal))\n",
        "print(\"Entero mayor (ceil):\", np.ceil(arr_decimal))"
      ]
    },
    {
      "cell_type": "markdown",
      "id": "51b5cda3",
      "metadata": {
        "id": "51b5cda3"
      },
      "source": [
        "## Ejercicios: Haz clic en \"open in colab\" para realizarlos\n",
        "\n",
        "> Solución: https://github.com/4GeeksAcademy/machine-learning-prework/blob/main/02-numpy/02.1-Intro-to-Numpy_solutions.ipynb\n",
        "\n",
        "### Creación de arrays"
      ]
    },
    {
      "cell_type": "markdown",
      "id": "e3c20b3d",
      "metadata": {
        "id": "e3c20b3d"
      },
      "source": [
        "#### Ejercicio 01:  Crea un **vector nulo** (*null vector*) que tenga 10 elementos (★☆☆)\n",
        "\n",
        "Un vector nulo es un array de una dimensión compuesto por ceros (`0`).\n",
        "\n",
        "> NOTA: Revisa la función `np.zeros` (https://numpy.org/doc/stable/reference/generated/numpy.zeros.html)"
      ]
    },
    {
      "cell_type": "code",
      "execution_count": 1,
      "id": "8a758bcf",
      "metadata": {
        "id": "8a758bcf",
        "outputId": "0c8f1bb4-2665-48a3-a507-3ef1e1a052ac",
        "colab": {
          "base_uri": "https://localhost:8080/"
        }
      },
      "outputs": [
        {
          "output_type": "stream",
          "name": "stdout",
          "text": [
            "[0. 0. 0. 0. 0. 0. 0. 0. 0. 0.]\n"
          ]
        }
      ],
      "source": [
        "import numpy as np\n",
        "\n",
        "vector_nulo = np.zeros(10)\n",
        "print(vector_nulo)"
      ]
    },
    {
      "cell_type": "markdown",
      "id": "6cbe7954",
      "metadata": {
        "id": "6cbe7954"
      },
      "source": [
        "#### Ejercicio 02: Crea un vector de unos que tenga 10 elementos (★☆☆)\n",
        "\n",
        "> NOTA: Revisa la función `np.ones` (https://numpy.org/doc/stable/reference/generated/numpy.ones.html)"
      ]
    },
    {
      "cell_type": "code",
      "execution_count": 2,
      "id": "86477874",
      "metadata": {
        "id": "86477874",
        "outputId": "7d71ff9b-cf2a-416e-a611-6297b459718d",
        "colab": {
          "base_uri": "https://localhost:8080/"
        }
      },
      "outputs": [
        {
          "output_type": "stream",
          "name": "stdout",
          "text": [
            "[1. 1. 1. 1. 1. 1. 1. 1. 1. 1.]\n"
          ]
        }
      ],
      "source": [
        "import numpy as np\n",
        "\n",
        "vector_unos = np.ones(10)\n",
        "print(vector_unos)"
      ]
    },
    {
      "cell_type": "markdown",
      "id": "0a708990",
      "metadata": {
        "id": "0a708990"
      },
      "source": [
        "#### Ejercicio 03: Investiga la función `linspace` de NumPy y crea un array que contenga 10 elementos (★☆☆)\n",
        "\n",
        "> NOTA: Revisa la función `np.linspace` (https://numpy.org/doc/stable/reference/generated/numpy.linspace.html)"
      ]
    },
    {
      "cell_type": "code",
      "execution_count": 3,
      "id": "477e01f4",
      "metadata": {
        "id": "477e01f4",
        "outputId": "d51ae64a-99ba-49e4-a24b-107c39958864",
        "colab": {
          "base_uri": "https://localhost:8080/"
        }
      },
      "outputs": [
        {
          "output_type": "stream",
          "name": "stdout",
          "text": [
            "[0.         0.11111111 0.22222222 0.33333333 0.44444444 0.55555556\n",
            " 0.66666667 0.77777778 0.88888889 1.        ]\n"
          ]
        }
      ],
      "source": [
        "import numpy as np\n",
        "array_lineal = np.linspace(0, 1, 10)\n",
        "print(array_lineal)"
      ]
    },
    {
      "cell_type": "markdown",
      "id": "9794fe71",
      "metadata": {
        "id": "9794fe71"
      },
      "source": [
        "#### Ejercicio 04: Busca varias formas de generar un array con números aleatorios y crea un array 1D y dos arrays 2D (★★☆)\n",
        "\n",
        "> NOTA: Revisa las funciones `np.random.rand` (https://numpy.org/doc/stable/reference/random/generated/numpy.random.rand.html), `np.random.randint` (https://numpy.org/doc/stable/reference/random/generated/numpy.random.randint.html) y `np.random.randn` (https://numpy.org/doc/stable/reference/random/generated/numpy.random.randn.html)"
      ]
    },
    {
      "cell_type": "code",
      "execution_count": 7,
      "id": "3d9a48a7",
      "metadata": {
        "id": "3d9a48a7",
        "outputId": "32618c38-9a78-4d29-a04f-1019d95ff221",
        "colab": {
          "base_uri": "https://localhost:8080/"
        }
      },
      "outputs": [
        {
          "output_type": "stream",
          "name": "stdout",
          "text": [
            "array aleatorio [0.26974083 0.89920552 0.81981159 0.07939943 0.21745777 0.0640547\n",
            " 0.35866647 0.73276892 0.50869265 0.9208186 ]\n",
            "Array 2D Aleatorio\n",
            "[[ 0.04258221 -1.81494163  0.14127164  1.00922783  0.04299818 -0.91708337]\n",
            " [ 1.03341165  0.35245007 -0.10137971  0.06227704 -0.85224662  1.12234321]\n",
            " [-0.65651026 -1.45733412 -0.45011071  2.36255581  1.70192915  1.78945094]\n",
            " [-0.83496611 -0.68527381 -0.13828291  0.80269206  0.29725343  1.21315437]\n",
            " [ 1.26181106  0.46540426  1.60851887  1.10247198 -0.05240858  1.14351228]]\n",
            "Array 2D Numeros Enteros Aleatorios\n",
            "[[4 7 4 1 3 8]\n",
            " [6 5 0 4 6 3]\n",
            " [9 9 8 4 6 0]\n",
            " [2 2 3 5 6 9]\n",
            " [5 5 9 2 5 9]]\n"
          ]
        }
      ],
      "source": [
        "import numpy as np\n",
        "\n",
        "array_lineal = np.random.rand(10)\n",
        "print(\"array aleatorio\",array_lineal)\n",
        "\n",
        "array_2d_aleatorio = np.random.randn(5, 6)\n",
        "print(\"Array 2D Aleatorio\")\n",
        "print(array_2d_aleatorio)\n",
        "\n",
        "array_2d_int = np.random.randint(0, 10, (5, 6))\n",
        "print(\"Array 2D Numeros Enteros Aleatorios\")\n",
        "print(array_2d_int)\n"
      ]
    },
    {
      "cell_type": "markdown",
      "id": "78a37e5c",
      "metadata": {
        "id": "78a37e5c"
      },
      "source": [
        "#### Ejercicio 05: Crea una matriz (array 2D) identidad de 5x5 (★☆☆)\n",
        "\n",
        "\n",
        "> NOTA: Revisa la función `np.eye`(https://numpy.org/devdocs/reference/generated/numpy.eye.html)"
      ]
    },
    {
      "cell_type": "code",
      "execution_count": 8,
      "id": "a6751106",
      "metadata": {
        "id": "a6751106",
        "outputId": "1702779c-41c3-426b-cfcb-17bc21290b59",
        "colab": {
          "base_uri": "https://localhost:8080/"
        }
      },
      "outputs": [
        {
          "output_type": "stream",
          "name": "stdout",
          "text": [
            "[[1. 0. 0. 0. 0.]\n",
            " [0. 1. 0. 0. 0.]\n",
            " [0. 0. 1. 0. 0.]\n",
            " [0. 0. 0. 1. 0.]\n",
            " [0. 0. 0. 0. 1.]]\n"
          ]
        }
      ],
      "source": [
        "import numpy as np\n",
        "matriz= np.eye(5)\n",
        "print(matriz)"
      ]
    },
    {
      "cell_type": "markdown",
      "id": "08bb63e6",
      "metadata": {
        "id": "08bb63e6"
      },
      "source": [
        "#### Ejercicio 06: Crea una matriz con números aleatorios de 3x2 y calcula el valor mínimo y máximo (★☆☆)\n",
        "\n",
        "> NOTA: Revisa la función `np.min` (https://numpy.org/devdocs/reference/generated/numpy.min.html) y `np.max` (https://numpy.org/devdocs/reference/generated/numpy.max.html)"
      ]
    },
    {
      "cell_type": "code",
      "execution_count": 12,
      "id": "3214cca1",
      "metadata": {
        "id": "3214cca1",
        "outputId": "04222635-bbe2-4224-a334-8a89cf851fb9",
        "colab": {
          "base_uri": "https://localhost:8080/"
        }
      },
      "outputs": [
        {
          "output_type": "stream",
          "name": "stdout",
          "text": [
            "Matriz Aleatoria 3x2\n",
            "[[0.54609173 0.52474197]\n",
            " [0.55352152 0.5773025 ]\n",
            " [0.31077036 0.83577449]]\n",
            "Valor Minimo 0.31077035677886977\n",
            "Valor Maximo 0.8357744890299136\n"
          ]
        }
      ],
      "source": [
        "import numpy as np\n",
        "matriz = np.random.random((3, 2))\n",
        "minimo = np.min(matriz)\n",
        "maximo = np.max(matriz)\n",
        "\n",
        "print(\"Matriz Aleatoria 3x2\")\n",
        "print(matriz)\n",
        "print(\"Valor Minimo\",minimo)\n",
        "print(\"Valor Maximo\",maximo)"
      ]
    },
    {
      "cell_type": "markdown",
      "id": "57c6c275",
      "metadata": {
        "id": "57c6c275"
      },
      "source": [
        "#### Ejercicio 07: Crea un vector con números aleatorios de 30 elementos y calcula la media (★☆☆)\n",
        "\n",
        "> NOTA: Revisa la función `np.mean` (https://numpy.org/doc/stable/reference/generated/numpy.mean.html)"
      ]
    },
    {
      "cell_type": "code",
      "execution_count": 13,
      "id": "cc960ba5",
      "metadata": {
        "id": "cc960ba5",
        "outputId": "3c505223-a92e-47fe-f55b-966306de54e0",
        "colab": {
          "base_uri": "https://localhost:8080/"
        }
      },
      "outputs": [
        {
          "output_type": "stream",
          "name": "stdout",
          "text": [
            "Vector [0.22024772 0.00869937 0.55996304 0.32673815 0.40560005 0.27466904\n",
            " 0.91877647 0.52594907 0.79322314 0.65326486 0.17904772 0.10222487\n",
            " 0.4539937  0.57854974 0.01171162 0.64456114 0.82797952 0.35500222\n",
            " 0.97935048 0.77892018 0.3949208  0.06312966 0.21329089 0.02726793\n",
            " 0.06479885 0.58981919 0.06991425 0.21374077 0.45679735 0.45289752]\n",
            "Media 0.4048349763830231\n"
          ]
        }
      ],
      "source": [
        "import numpy as np\n",
        "vector= np.random.random(30)\n",
        "media=np.mean(vector)\n",
        "print(\"Vector\",vector)\n",
        "print(\"Media\",media)"
      ]
    },
    {
      "cell_type": "markdown",
      "id": "2c801667",
      "metadata": {
        "id": "2c801667"
      },
      "source": [
        "#### Ejercicio 08: Convierte la lista `[1, 2, 3]` y la tupla `(1, 2, 3)` en arrays (★☆☆)"
      ]
    },
    {
      "cell_type": "code",
      "execution_count": 14,
      "id": "3f36c71c",
      "metadata": {
        "id": "3f36c71c",
        "outputId": "bf184a81-b956-4ea1-cb32-98e4f27cdcd1",
        "colab": {
          "base_uri": "https://localhost:8080/"
        }
      },
      "outputs": [
        {
          "output_type": "stream",
          "name": "stdout",
          "text": [
            "Array Lista [1 2 3]\n",
            "Array Tupla [1 2 3]\n"
          ]
        }
      ],
      "source": [
        "import numpy as np\n",
        "\n",
        "lista = [1, 2, 3]\n",
        "tupla = [1, 2, 3]\n",
        "\n",
        "array_lista=np.array(lista)\n",
        "array_tupla=np.array(tupla)\n",
        "\n",
        "print(\"Array Lista\", array_lista)\n",
        "print(\"Array Tupla\", array_tupla)"
      ]
    },
    {
      "cell_type": "markdown",
      "id": "962bb9fc",
      "metadata": {
        "id": "962bb9fc"
      },
      "source": [
        "### Operaciones entre arrays"
      ]
    },
    {
      "cell_type": "markdown",
      "id": "48d48f01",
      "metadata": {
        "id": "48d48f01"
      },
      "source": [
        "#### Ejercicio 09: Invierte el vector del ejercicio anterior (★☆☆)\n",
        "\n",
        "> NOTA: Revisa la función `np.flip` (https://numpy.org/doc/stable/reference/generated/numpy.flip.html)"
      ]
    },
    {
      "cell_type": "code",
      "execution_count": 15,
      "id": "d3e13052",
      "metadata": {
        "id": "d3e13052",
        "outputId": "70d158d7-f4aa-42ce-f09e-8f9e0158edab",
        "colab": {
          "base_uri": "https://localhost:8080/"
        }
      },
      "outputs": [
        {
          "output_type": "stream",
          "name": "stdout",
          "text": [
            "Array Lista Invertido [3 2 1]\n",
            "Array Tupla Invertido [3 2 1]\n"
          ]
        }
      ],
      "source": [
        "import numpy as np\n",
        "\n",
        "array_lista_invertido = np.flip(array_lista)\n",
        "array_tupla_invertido = np.flip(array_tupla)\n",
        "\n",
        "print(\"Array Lista Invertido\", array_lista_invertido)\n",
        "print(\"Array Tupla Invertido\", array_tupla_invertido)"
      ]
    },
    {
      "cell_type": "markdown",
      "id": "233addce",
      "metadata": {
        "id": "233addce"
      },
      "source": [
        "#### Ejercicio 10: Cambia el tamaño de un array aleatorio de dimensiones 5x12 en 12x5 (★☆☆)\n",
        "\n",
        "> NOTA: Revisa la función `np.reshape` (https://numpy.org/doc/stable/reference/generated/numpy.reshape.html)"
      ]
    },
    {
      "cell_type": "code",
      "execution_count": 17,
      "id": "bfaed09f",
      "metadata": {
        "id": "bfaed09f",
        "outputId": "7b64ed96-5444-41e7-ffd3-70aa898bf945",
        "colab": {
          "base_uri": "https://localhost:8080/"
        }
      },
      "outputs": [
        {
          "output_type": "stream",
          "name": "stdout",
          "text": [
            "Array Original [[0.34016995 0.08830825 0.52866801 0.31273047 0.88025471 0.86597555\n",
            "  0.32514251 0.13060036 0.86109601 0.267805   0.11330673 0.92994258]\n",
            " [0.37902791 0.60497821 0.9923928  0.51533905 0.62670227 0.63311224\n",
            "  0.66563026 0.16699386 0.90771262 0.03843534 0.82679214 0.80158065]\n",
            " [0.64914022 0.79694752 0.14953654 0.50702249 0.73887398 0.69168692\n",
            "  0.67285185 0.15799615 0.4983669  0.27965046 0.92314391 0.82075386]\n",
            " [0.63210373 0.12403908 0.27785799 0.72879388 0.3690361  0.7657482\n",
            "  0.29438431 0.83822844 0.33029451 0.23323586 0.41917006 0.56989528]\n",
            " [0.31668815 0.96482848 0.56388615 0.35582428 0.52590909 0.37111241\n",
            "  0.72609476 0.20868527 0.14928602 0.01892344 0.53242529 0.65222032]]\n",
            "Array Dimensionado [[0.34016995 0.08830825 0.52866801 0.31273047 0.88025471]\n",
            " [0.86597555 0.32514251 0.13060036 0.86109601 0.267805  ]\n",
            " [0.11330673 0.92994258 0.37902791 0.60497821 0.9923928 ]\n",
            " [0.51533905 0.62670227 0.63311224 0.66563026 0.16699386]\n",
            " [0.90771262 0.03843534 0.82679214 0.80158065 0.64914022]\n",
            " [0.79694752 0.14953654 0.50702249 0.73887398 0.69168692]\n",
            " [0.67285185 0.15799615 0.4983669  0.27965046 0.92314391]\n",
            " [0.82075386 0.63210373 0.12403908 0.27785799 0.72879388]\n",
            " [0.3690361  0.7657482  0.29438431 0.83822844 0.33029451]\n",
            " [0.23323586 0.41917006 0.56989528 0.31668815 0.96482848]\n",
            " [0.56388615 0.35582428 0.52590909 0.37111241 0.72609476]\n",
            " [0.20868527 0.14928602 0.01892344 0.53242529 0.65222032]]\n"
          ]
        }
      ],
      "source": [
        "array = np.random.rand(5, 12)\n",
        "print(\"Array Original\", array)\n",
        "array_dimensionado = array.reshape(12, 5)\n",
        "print(\"Array Dimensionado\", array_dimensionado)"
      ]
    },
    {
      "cell_type": "markdown",
      "id": "645e5381",
      "metadata": {
        "id": "645e5381"
      },
      "source": [
        "#### Ejercicio 11: Convierte la lista `[1, 2, 0, 0, 4, 0]` en un array y obtén el índice de los elementos que no son cero (★★☆)\n",
        "\n",
        "> NOTA: Revisa la función `np.where` (https://numpy.org/devdocs/reference/generated/numpy.where.html)"
      ]
    },
    {
      "cell_type": "code",
      "execution_count": 20,
      "id": "b2652fee",
      "metadata": {
        "id": "b2652fee",
        "outputId": "4f6a8a55-daf6-467c-f326-d99a207b854f",
        "colab": {
          "base_uri": "https://localhost:8080/"
        }
      },
      "outputs": [
        {
          "output_type": "stream",
          "name": "stdout",
          "text": [
            "Array: [1 2 0 0 4 0]\n",
            "Indices: [0 1 4]\n"
          ]
        }
      ],
      "source": [
        "import numpy as np\n",
        "\n",
        "lista = [1, 2, 0, 0, 4, 0]\n",
        "\n",
        "array = np.array(lista)\n",
        "\n",
        "indices= np.where(array !=0)[0]\n",
        "\n",
        "print(\"Array:\", array)\n",
        "print(\"Indices:\", indices)"
      ]
    },
    {
      "cell_type": "markdown",
      "id": "e7948dbb",
      "metadata": {
        "id": "e7948dbb"
      },
      "source": [
        "#### Ejercicio 12: Convierte la lista `[0, 5, -1, 3, 15]` en un array, multiplica sus valores por `-2` y obtén los elementos pares (★★☆)"
      ]
    },
    {
      "cell_type": "code",
      "execution_count": 21,
      "metadata": {
        "id": "SAjJPcuZXTc5",
        "outputId": "d1faec39-78d0-4eb9-f852-a8995532bc9e",
        "colab": {
          "base_uri": "https://localhost:8080/"
        }
      },
      "outputs": [
        {
          "output_type": "stream",
          "name": "stdout",
          "text": [
            "Array multiplicado: [  0 -10   2  -6 -30]\n",
            "Elementos pares: [  0 -10   2  -6 -30]\n"
          ]
        }
      ],
      "source": [
        "import numpy as np\n",
        "\n",
        "lista = [0, 5, -1, 3, 15]\n",
        "array = np.array(lista)\n",
        "multiplicado = array * -2\n",
        "\n",
        "pares = multiplicado[multiplicado % 2 == 0]\n",
        "\n",
        "print(\"Array multiplicado:\", multiplicado)\n",
        "print(\"Elementos pares:\", pares)"
      ],
      "id": "SAjJPcuZXTc5"
    },
    {
      "cell_type": "markdown",
      "id": "a90d6f3e",
      "metadata": {
        "id": "a90d6f3e"
      },
      "source": [
        "#### Ejercicio 13: Crea un vector aleatorio de 10 elementos y ordénalo de menor a mayor (★★☆)\n",
        "\n",
        "> NOTA: Revisa la función `np.sort` (https://numpy.org/doc/stable/reference/generated/numpy.sort.html)"
      ]
    },
    {
      "cell_type": "code",
      "execution_count": 22,
      "id": "bc373a83",
      "metadata": {
        "id": "bc373a83",
        "outputId": "6fd40637-e624-4862-d082-94960bb7894c",
        "colab": {
          "base_uri": "https://localhost:8080/"
        }
      },
      "outputs": [
        {
          "output_type": "stream",
          "name": "stdout",
          "text": [
            "Vector original: [0.24843887 0.10961257 0.05452378 0.23189838 0.59138232 0.78527267\n",
            " 0.15811346 0.71332128 0.99145262 0.83822475]\n",
            "Vector ordenado: [0.05452378 0.10961257 0.15811346 0.23189838 0.24843887 0.59138232\n",
            " 0.71332128 0.78527267 0.83822475 0.99145262]\n"
          ]
        }
      ],
      "source": [
        "import numpy as np\n",
        "\n",
        "vector = np.random.rand(10)\n",
        "vector_ordenado = np.sort(vector)\n",
        "\n",
        "print(\"Vector original:\", vector)\n",
        "print(\"Vector ordenado:\", vector_ordenado)"
      ]
    },
    {
      "cell_type": "markdown",
      "id": "5e9b6115",
      "metadata": {
        "id": "5e9b6115"
      },
      "source": [
        "#### Ejercicio 14: Genera dos vectores aleatorios de 8 elementos y aplica las operaciones de suma, resta y multiplicación entre ellos (★★☆)\n",
        "\n",
        "> NOTA: Revisa las funciones matemáticas: https://numpy.org/doc/stable/reference/routines.math.html"
      ]
    },
    {
      "cell_type": "code",
      "execution_count": 23,
      "id": "cc77e421",
      "metadata": {
        "id": "cc77e421",
        "outputId": "5b60a251-2f34-4b2e-df9d-09db0f69b9f9",
        "colab": {
          "base_uri": "https://localhost:8080/"
        }
      },
      "outputs": [
        {
          "output_type": "stream",
          "name": "stdout",
          "text": [
            "Vector A: [0.45224816 0.21321041 0.01090447 0.04426348 0.48262915 0.56093429\n",
            " 0.3983811  0.92621863]\n",
            "Vector B: [0.8604837  0.35160961 0.34540636 0.75111784 0.42503212 0.93134872\n",
            " 0.80077767 0.12261877]\n",
            "\n",
            "Suma: [1.31273186 0.56482002 0.35631083 0.79538132 0.90766127 1.49228301\n",
            " 1.19915876 1.04883739]\n",
            "Resta: [-0.40823554 -0.1383992  -0.3345019  -0.70685436  0.05759703 -0.37041443\n",
            " -0.40239657  0.80359986]\n",
            "Multiplicación: [0.38915217 0.07496683 0.00376647 0.03324709 0.20513289 0.52242543\n",
            " 0.31901468 0.11357179]\n"
          ]
        }
      ],
      "source": [
        "import numpy as np\n",
        "\n",
        "vector_a = np.random.rand(8)\n",
        "vector_b = np.random.rand(8)\n",
        "\n",
        "suma = vector_a + vector_b\n",
        "resta = vector_a - vector_b\n",
        "multiplicacion = vector_a * vector_b\n",
        "\n",
        "print(\"Vector A:\", vector_a)\n",
        "print(\"Vector B:\", vector_b)\n",
        "print(\"\\nSuma:\", suma)\n",
        "print(\"Resta:\", resta)\n",
        "print(\"Multiplicación:\", multiplicacion)\n",
        "\n",
        "\n"
      ]
    },
    {
      "cell_type": "markdown",
      "id": "c8e8daa0",
      "metadata": {
        "id": "c8e8daa0"
      },
      "source": [
        "#### Ejercicio 15: Convierte la lista `[1, 2, 3, 4, 5, 6, 7, 8, 9, 10, 11, 12]` en un array y transfórmalo en una matriz con filas de 3 columnas (★★★)"
      ]
    },
    {
      "cell_type": "code",
      "execution_count": 25,
      "metadata": {
        "id": "nKN-_nZ-XTc8",
        "outputId": "da8029d4-0fdc-4b8e-fc2f-5e49f9ff4b95",
        "colab": {
          "base_uri": "https://localhost:8080/"
        }
      },
      "outputs": [
        {
          "output_type": "stream",
          "name": "stdout",
          "text": [
            "Matriz con filas de 3 columnas:\n",
            "[[ 1  2  3]\n",
            " [ 4  5  6]\n",
            " [ 7  8  9]\n",
            " [10 11 12]]\n"
          ]
        }
      ],
      "source": [
        "import numpy as np\n",
        "\n",
        "lista = [1, 2, 3, 4, 5, 6, 7, 8, 9, 10, 11, 12]\n",
        "array = np.array(lista)\n",
        "matriz = array.reshape(-1, 3)\n",
        "\n",
        "print(\"Matriz con filas de 3 columnas:\")\n",
        "print(matriz)\n"
      ],
      "id": "nKN-_nZ-XTc8"
    }
  ],
  "metadata": {
    "kernelspec": {
      "display_name": "Python 3",
      "language": "python",
      "name": "python3"
    },
    "language_info": {
      "codemirror_mode": {
        "name": "ipython",
        "version": 3
      },
      "file_extension": ".py",
      "mimetype": "text/x-python",
      "name": "python",
      "nbconvert_exporter": "python",
      "pygments_lexer": "ipython3",
      "version": "3.11.4"
    },
    "colab": {
      "provenance": []
    }
  },
  "nbformat": 4,
  "nbformat_minor": 5
}